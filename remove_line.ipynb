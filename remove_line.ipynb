{
 "cells": [
  {
   "cell_type": "code",
   "execution_count": 1,
   "metadata": {},
   "outputs": [
    {
     "name": "stdout",
     "output_type": "stream",
     "text": [
      "\u001b[0;32m2022-10-22 21:06:29.211944 - [PASS] - \n",
      "file copied successfully !!\u001b[0m\n"
     ]
    },
    {
     "data": {
      "text/plain": [
       "True"
      ]
     },
     "execution_count": 1,
     "metadata": {},
     "output_type": "execute_result"
    }
   ],
   "source": [
    "import re\n",
    "import os\n",
    "import shutil\n",
    "from log_color import log,LogLevel\n",
    "\n",
    "def get_permissions(path):\n",
    "    init_path = os.path.expanduser(path)\n",
    "    if os.access(init_path, os.F_OK):\n",
    "        log(\"\\nGiven file path is exist.\",LogLevel.INFO)\n",
    "    if os.access(init_path, os.R_OK):\n",
    "        log(\"\\nFile is accessible to read\",LogLevel.DEBUG)\n",
    "    if os.access(init_path, os.W_OK):\n",
    "        log(\"\\nFile is accessible to write\",LogLevel.PASS)\n",
    "    if os.access(init_path, os.X_OK):\n",
    "        log(\"\\nFile is accessible to execute\",LogLevel.WARN)\n",
    "\n",
    "\n",
    " \n",
    "def copy_file(source_path = None,target_path = \"/Users/magu/bakfile/\"):\n",
    "    try:\n",
    "        init_source_path ,init_target_path = os.path.expanduser(source_path),os.path.expanduser(target_path)\n",
    "        if os.path.isfile(init_source_path):\n",
    "            if os.path.isdir(init_target_path):\n",
    "                shutil.copy(init_source_path,init_target_path)\n",
    "                log(\"\\nfile copied successfully !!\",LogLevel.PASS)\n",
    "                return True\n",
    "            log(\"dir path is not exist !!\",LogLevel.DEBUG)\n",
    "            return False\n",
    "        log(\"file path is not exist !!\",LogLevel.DEBUG)\n",
    "        return False\n",
    "    except Exception as error:\n",
    "        log(error,LogLevel.DEBUG)\n",
    "        return False\n",
    "\n",
    "\n",
    "copy_file(\"~/.zshrc\",\"/Users/magu/bakfile/\")"
   ]
  },
  {
   "cell_type": "code",
   "execution_count": 50,
   "metadata": {},
   "outputs": [
    {
     "name": "stdout",
     "output_type": "stream",
     "text": [
      "\u001b[0;32m2022-10-22 22:01:31.296964 - [PASS] - \n",
      "file copied successfully !!\u001b[0m\n",
      "\u001b[0;32m2022-10-22 22:01:31.297626 - [PASS] - file with the name </Users/magu/.zsh_history> is backed up\u001b[0m\n",
      "\u001b[0;32m2022-10-22 22:01:31.305179 - [PASS] - total of 0 lines were deleted this time\u001b[0m\n"
     ]
    },
    {
     "data": {
      "text/plain": [
       "False"
      ]
     },
     "execution_count": 50,
     "metadata": {},
     "output_type": "execute_result"
    }
   ],
   "source": [
    "def get_line_number(source_path):\n",
    "    count = -1\n",
    "    file = open(os.path.expanduser(source_path),'rU')\n",
    "    for count,line in enumerate(file):\n",
    "        pass\n",
    "    file.close()\n",
    "    count += 1\n",
    "    return count\n",
    "\n",
    "def remove_line(keyword,source_path):\n",
    "    init_source_path = os.path.expanduser(source_path)\n",
    "    if isinstance(keyword,str):\n",
    "        if os.path.isfile(init_source_path):\n",
    "            copy_file(source_path=init_source_path)\n",
    "            log(f\"file with the name <{init_source_path}> is backed up\",LogLevel.PASS)\n",
    "            counter = 0\n",
    "            with open(init_source_path,\"r\") as f:\n",
    "                lines = f.readlines()\n",
    "                #print(lines)\n",
    "            with open(init_source_path,\"w\",encoding=\"utf-8\") as f_w:\n",
    "                for line in lines:\n",
    "                    if keyword in line:\n",
    "                        counter += 1\n",
    "                        log(f\"\\n The line with the content \\n<{line}> \\nhas been deleted\",LogLevel.INFO)\n",
    "                        continue\n",
    "                    f_w.write(line)\n",
    "            f_w.close()\n",
    "            log(f\"total of {counter} lines were deleted this time\",LogLevel.PASS)\n",
    "        else:\n",
    "            log(f\"\\nfile path <{init_source_path}> is not exist !!\",LogLevel.DEBUG)\n",
    "            return False\n",
    "    else:\n",
    "        log(\"\\nkeyword must be string\",LogLevel.DEBUG)\n",
    "    return False\n",
    "                \n",
    "remove_line(\"https://cn.pornhub.com\",\"~/.zsh_history\")"
   ]
  },
  {
   "cell_type": "code",
   "execution_count": 47,
   "metadata": {},
   "outputs": [
    {
     "name": "stderr",
     "output_type": "stream",
     "text": [
      "/var/folders/3g/m1jxz4d919v61y989s04k9r80000gn/T/ipykernel_7920/2252631743.py:3: DeprecationWarning: 'U' mode is deprecated\n",
      "  file = open(os.path.expanduser(source_path),'rU')\n"
     ]
    },
    {
     "data": {
      "text/plain": [
       "6354"
      ]
     },
     "execution_count": 47,
     "metadata": {},
     "output_type": "execute_result"
    }
   ],
   "source": [
    "get_line_number(\"~/.zsh_history\")"
   ]
  }
 ],
 "metadata": {
  "kernelspec": {
   "display_name": "Python 3.10.5 64-bit",
   "language": "python",
   "name": "python3"
  },
  "language_info": {
   "codemirror_mode": {
    "name": "ipython",
    "version": 3
   },
   "file_extension": ".py",
   "mimetype": "text/x-python",
   "name": "python",
   "nbconvert_exporter": "python",
   "pygments_lexer": "ipython3",
   "version": "3.10.5"
  },
  "orig_nbformat": 4,
  "vscode": {
   "interpreter": {
    "hash": "aee8b7b246df8f9039afb4144a1f6fd8d2ca17a180786b69acc140d282b71a49"
   }
  }
 },
 "nbformat": 4,
 "nbformat_minor": 2
}
